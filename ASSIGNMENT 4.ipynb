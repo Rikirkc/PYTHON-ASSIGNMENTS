{
 "cells": [
  {
   "cell_type": "code",
   "execution_count": 15,
   "id": "c60ae748",
   "metadata": {},
   "outputs": [
    {
     "name": "stdout",
     "output_type": "stream",
     "text": [
      "[('Sachin Tendulkar', 34357), ('Ricky Ponting', 27483), ('Jacques Kallis', 25534), ('Virat Kohli', 24396)]\n"
     ]
    }
   ],
   "source": [
    "# Q1) CREATE A PYTHON PROGRAM TO SORT THE GIVEN LIST OF TUPLES BASED ON INTEGER VALUE USING A LAMBDA FUNCTION.\n",
    "#[(\"Sachin Tendulkar\",34357),(\"Ricky Ponting\",27483),(\"Jacques Kallis\",25534),(\"Virat Kohli\",24396)]\n",
    "\n",
    "player_runs = [(\"Sachin Tendulkar\",34357),(\"Ricky Ponting\",27483),(\"Jacques Kallis\",25534),(\"Virat Kohli\",24396)]\n",
    "for player in player_runs:\n",
    "    for runs in player:\n",
    "        if runs == type(int):\n",
    "            player_runs.sort(runs)\n",
    "print(player_runs)"
   ]
  },
  {
   "cell_type": "code",
   "execution_count": 16,
   "id": "d7735a3e",
   "metadata": {},
   "outputs": [
    {
     "name": "stdout",
     "output_type": "stream",
     "text": [
      "[1, 4, 9, 16, 25, 36, 49, 64, 81, 100]\n"
     ]
    }
   ],
   "source": [
    "#Q2) WRITE A PYTHON PROGRAM TOF IND THE SQUARES OF ALL THE NUMBERS IN THE GIVEN LIST OF INTEGERS USING LAMBDA AND MAP FUNCTIONS.\n",
    "#[1,2,3,4,5,6,7,8,9,10]\n",
    "\n",
    "numbers = [1,2,3,4,5,6,7,8,9,10]\n",
    "squared_num = map(lambda x: x**2, numbers)\n",
    "print(list(squared_num))"
   ]
  },
  {
   "cell_type": "code",
   "execution_count": 19,
   "id": "9d9a5d98",
   "metadata": {},
   "outputs": [
    {
     "name": "stdout",
     "output_type": "stream",
     "text": [
      "('1', '2', '3', '4', '5', '6', '7', '8', '9', '10')\n"
     ]
    }
   ],
   "source": [
    "# Q3)WRITE A PYTHON PROGRAM TO CONVERT THE GIVEN LIST OF INTEGERS INTO A TUPLE OF STRINGS. USE MAP AND LAMBDA FUNCTIONS.\n",
    "# GIVEN STRING:[1,2,3,4,5,6,7,8,9,10]\n",
    "#EXPECTED OUTPUT:('1','2','3','4','5','6','7','8','9','10')\n",
    "numbers = [1,2,3,4,5,6,7,8,9,10]\n",
    "num_list = []\n",
    "string_num = map(lambda x: str(x), numbers)\n",
    "\n",
    "for num in string_num:\n",
    "    num_list.append(num)\n",
    "print(tuple(num_list))"
   ]
  },
  {
   "cell_type": "code",
   "execution_count": 20,
   "id": "499cccfe",
   "metadata": {},
   "outputs": [
    {
     "name": "stdout",
     "output_type": "stream",
     "text": [
      "15511210043330985984000000\n"
     ]
    }
   ],
   "source": [
    "# Q4) WRITE A PYTHON PROGRAM USING REDUCE FUNCTION TO COMPUTE THE PRODUCT OF A LIST CONTAINING NUMBERS FROM 1 TO 25\n",
    "# [1,2,3,4,5,6,7,8,9,10]\n",
    "from functools import reduce\n",
    "numbers = [1,2,3,4,5,6,7,8,9,10,11,12,13,14,15,16,17,18,19,20,21,22,23,24,25]\n",
    "\n",
    "product = reduce(lambda x,y: x*y, numbers)\n",
    "print(product)"
   ]
  },
  {
   "cell_type": "code",
   "execution_count": 22,
   "id": "e405ffad",
   "metadata": {},
   "outputs": [
    {
     "name": "stdout",
     "output_type": "stream",
     "text": [
      "['php', 'aba', 'radar', 'level']\n"
     ]
    }
   ],
   "source": [
    "# Q5) WRITE A PYTHON PROGRAM TO FILTER THE NUMBERS IN A GIVEN LIST THAT ARE DIVISBLE BY 2 OR 3 USING THE FILTER FUNCTION \n",
    "#[2,3,6,9,27,60,90,120,55,46]\n",
    "\n",
    "numbers = [2,3,6,9,27,60,90,120,55,46]\n",
    "\n",
    "filtered_num = filter(lambda x: x%2== 0 and x%3==0,numbers)\n",
    "print(list(filtered_num))"
   ]
  },
  {
   "cell_type": "code",
   "execution_count": null,
   "id": "182353e2",
   "metadata": {},
   "outputs": [],
   "source": [
    "# Q6)WRITE A PYTHON PROGRAM TO FIND PALINDROMES IN THE GIVEN LIST OF STRINGS USING LAMBDA AND FILTER FUNCTION.\n",
    "#  ['python', 'php','aba','radar','level']\n",
    "\n",
    "string_list = ['python', 'php','aba','radar','level']\n",
    "\n",
    "palindrome = filter(lambda string: \"\".join(reversed(string)) == string, string_list )\n",
    "print(list(palindrome))"
   ]
  }
 ],
 "metadata": {
  "kernelspec": {
   "display_name": "Python 3 (ipykernel)",
   "language": "python",
   "name": "python3"
  },
  "language_info": {
   "codemirror_mode": {
    "name": "ipython",
    "version": 3
   },
   "file_extension": ".py",
   "mimetype": "text/x-python",
   "name": "python",
   "nbconvert_exporter": "python",
   "pygments_lexer": "ipython3",
   "version": "3.11.0"
  }
 },
 "nbformat": 4,
 "nbformat_minor": 5
}
